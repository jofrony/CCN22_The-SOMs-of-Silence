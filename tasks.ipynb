{
 "cells": [
  {
   "cell_type": "code",
   "execution_count": 2,
   "id": "4a77c50c-c3d4-4c30-9535-f59ca790213b",
   "metadata": {},
   "outputs": [],
   "source": [
    "import elephant\n",
    "import neo\n",
    "from scipy import io\n",
    "import scipy\n",
    "import numpy as np\n",
    "import random\n",
    "import quantities as pq\n",
    "import matplotlib.pyplot as plt"
   ]
  },
  {
   "cell_type": "code",
   "execution_count": null,
   "id": "b5213e32-53f9-4e8d-9a09-4743b989c7aa",
   "metadata": {},
   "outputs": [],
   "source": []
  },
  {
   "cell_type": "code",
   "execution_count": 3,
   "id": "d81c4438-1603-4062-b18d-15ea0bb24899",
   "metadata": {},
   "outputs": [
    {
     "data": {
      "text/plain": [
       "100000"
      ]
     },
     "execution_count": 3,
     "metadata": {},
     "output_type": "execute_result"
    }
   ],
   "source": [
    "spktime_e = scipy.io.loadmat(\"test_e_spktime.mat\")\n",
    "len(spktime_e['spktime_e'].T[0])"
   ]
  },
  {
   "cell_type": "code",
   "execution_count": 4,
   "id": "93870301-16c4-4ed3-8b8e-804e19c33a44",
   "metadata": {},
   "outputs": [
    {
     "data": {
      "text/plain": [
       "array([ 35, 175, 470, ...,   0,   0,   0], dtype=uint16)"
      ]
     },
     "execution_count": 4,
     "metadata": {},
     "output_type": "execute_result"
    }
   ],
   "source": [
    "spkidx_e = scipy.io.loadmat(\"test_e_spkindx.mat\")\n",
    "spkidx_e[\"spkindex_e\"].T[0]"
   ]
  },
  {
   "cell_type": "code",
   "execution_count": 4,
   "id": "1dc4949e-79e9-4c4f-98c6-8d7fee47d2a3",
   "metadata": {},
   "outputs": [],
   "source": [
    "neuron_uq = np.unique(spkidx_e[\"spkindex_e\"].T[0])[1:]"
   ]
  },
  {
   "cell_type": "code",
   "execution_count": 5,
   "id": "c81751b5-f892-44a7-af99-655802cfe1eb",
   "metadata": {},
   "outputs": [
    {
     "data": {
      "text/plain": [
       "217"
      ]
     },
     "execution_count": 5,
     "metadata": {},
     "output_type": "execute_result"
    }
   ],
   "source": [
    "len(neuron_uq)"
   ]
  },
  {
   "cell_type": "code",
   "execution_count": 6,
   "id": "7b047e7a-5374-4666-b8ff-5dd44d7f1da6",
   "metadata": {},
   "outputs": [],
   "source": [
    "binsize = 50 * pq.ms\n",
    "num_neurons = 100"
   ]
  },
  {
   "cell_type": "code",
   "execution_count": 1,
   "id": "66ecbba7-2c78-4e6f-9e50-bfa60c8fd1ec",
   "metadata": {},
   "outputs": [
    {
     "ename": "NameError",
     "evalue": "name 'random' is not defined",
     "output_type": "error",
     "traceback": [
      "\u001b[0;31m---------------------------------------------------------------------------\u001b[0m",
      "\u001b[0;31mNameError\u001b[0m                                 Traceback (most recent call last)",
      "Input \u001b[0;32mIn [1]\u001b[0m, in \u001b[0;36m<cell line: 1>\u001b[0;34m()\u001b[0m\n\u001b[0;32m----> 1\u001b[0m sample_neurons \u001b[38;5;241m=\u001b[39m \u001b[43mrandom\u001b[49m\u001b[38;5;241m.\u001b[39msample(\u001b[38;5;28mlist\u001b[39m(neuron_uq),num_neurons)\n\u001b[1;32m      2\u001b[0m neo_spiketrains \u001b[38;5;241m=\u001b[39m \u001b[38;5;28mlist\u001b[39m()\n\u001b[1;32m      3\u001b[0m \u001b[38;5;28;01mfor\u001b[39;00m s \u001b[38;5;129;01min\u001b[39;00m sample_neurons:\n",
      "\u001b[0;31mNameError\u001b[0m: name 'random' is not defined"
     ]
    }
   ],
   "source": [
    "sample_neurons = random.sample(list(neuron_uq),num_neurons)\n",
    "neo_spiketrains = list()\n",
    "for s in sample_neurons:\n",
    "\n",
    "    neuron_idx = np.where(spkidx_e[\"spkindex_e\"].T[0] == s)[0]\n",
    "\n",
    "    spk = np.take(spktime_e['spktime_e'].T[0], neuron_idx)\n",
    "\n",
    "    neo_spk = neo.SpikeTrain(spk * pq.ms, t_stop=2000)\n",
    "    \n",
    "    print(neo_spk)\n",
    "    \n",
    "    neo_spiketrains.append(neo_spk)\n",
    "\n",
    "binned_spk = elephant.conversion.BinnedSpikeTrain(neo_spiketrains, binsize=binsize)\n",
    "\n",
    "\n",
    "corr = elephant.spike_train_correlation.corrcoef(binned_spk)\n",
    "    \n",
    "    "
   ]
  },
  {
   "cell_type": "code",
   "execution_count": 8,
   "id": "e19450d3-d1d2-4b87-abb0-2f953de4c000",
   "metadata": {},
   "outputs": [],
   "source": [
    "only_interactions = corr.ravel()[corr.ravel() != 1.]"
   ]
  },
  {
   "cell_type": "code",
   "execution_count": 9,
   "id": "e1a0a177-f3ef-485e-a6e8-d31dd9a5738b",
   "metadata": {},
   "outputs": [
    {
     "data": {
      "text/plain": [
       "(array([ 196., 7426.,  410.,  422.,  280.,  182.,  128.,  194.,   34.,\n",
       "          43.]),\n",
       " array([-0.28182646, -0.15364381, -0.02546117,  0.10272148,  0.23090412,\n",
       "         0.35908677,  0.48726942,  0.61545206,  0.74363471,  0.87181735,\n",
       "         1.        ]),\n",
       " <BarContainer object of 10 artists>)"
      ]
     },
     "execution_count": 9,
     "metadata": {},
     "output_type": "execute_result"
    },
    {
     "data": {
      "image/png": "[encoded data removed]",
      "text/plain": [
       "<Figure size 432x288 with 1 Axes>"
      ]
     },
     "metadata": {
      "needs_background": "light"
     },
     "output_type": "display_data"
    }
   ],
   "source": [
    "plt.hist(only_interactions)"
   ]
  },
  {
   "cell_type": "code",
   "execution_count": 10,
   "id": "5d31e258-af72-4121-a7b5-1c9a1fa3d5f3",
   "metadata": {},
   "outputs": [
    {
     "name": "stderr",
     "output_type": "stream",
     "text": [
      "/Users/jofrony/miniconda3/lib/python3.8/site-packages/seaborn/distributions.py:1699: FutureWarning: The `bw` parameter is deprecated in favor of `bw_method` and `bw_adjust`. Using 0.5 for `bw_method`, but please see the docs for the new parameters and update your code.\n",
      "  warnings.warn(msg, FutureWarning)\n"
     ]
    },
    {
     "data": {
      "text/plain": [
       "<AxesSubplot:ylabel='Density'>"
      ]
     },
     "execution_count": 10,
     "metadata": {},
     "output_type": "execute_result"
    },
    {
     "data": {
      "image/png": "[encoded data removed]",
      "text/plain": [
       "<Figure size 432x288 with 1 Axes>"
      ]
     },
     "metadata": {
      "needs_background": "light"
     },
     "output_type": "display_data"
    }
   ],
   "source": [
    "import seaborn as sns\n",
    "sns.kdeplot(np.array(only_interactions), bw=0.5)"
   ]
  },
  {
   "cell_type": "code",
   "execution_count": 11,
   "id": "15c7797c-e225-452b-bfe5-b397c62ca93a",
   "metadata": {},
   "outputs": [
    {
     "data": {
      "text/plain": [
       "0.005748770990629287"
      ]
     },
     "execution_count": 11,
     "metadata": {},
     "output_type": "execute_result"
    }
   ],
   "source": [
    "np.mean(np.array(only_interactions))"
   ]
  },
  {
   "cell_type": "code",
   "execution_count": 12,
   "id": "47ac1c06-bf6f-4e03-9faa-c673c66a221c",
   "metadata": {},
   "outputs": [],
   "source": [
    "from analysis import rate_per_neuron"
   ]
  },
  {
   "cell_type": "code",
   "execution_count": 13,
   "id": "aead4839-308a-4d3d-a31d-09240d6f21f9",
   "metadata": {
    "scrolled": true,
    "tags": []
   },
   "outputs": [],
   "source": [
    "rates = rate_per_neuron(spkidx_e[\"spkindex_e\"],spktime_e['spktime_e'], duration=2000)"
   ]
  },
  {
   "cell_type": "code",
   "execution_count": 17,
   "id": "16576e33-abff-4596-84fa-67791a086c33",
   "metadata": {},
   "outputs": [
    {
     "data": {
      "text/plain": [
       "(array([120.,  24.,  18.,   9.,   6.,   6.,   3.,   5.,   3.,   0.,   3.,\n",
       "          2.,   0.,   0.,   6.,   0.,   2.,   1.,   1.,   1.,   0.,   1.,\n",
       "          0.,   0.,   1.,   1.,   0.,   1.,   0.,   0.,   0.,   0.,   0.,\n",
       "          1.,   0.,   0.,   0.,   0.,   0.,   0.,   0.,   0.,   0.,   0.,\n",
       "          1.,   0.,   0.,   0.,   0.,   0.,   0.,   0.,   0.,   0.,   0.,\n",
       "          0.,   0.,   0.,   0.,   0.,   0.,   0.,   0.,   0.,   0.,   0.,\n",
       "          0.,   0.,   0.,   0.,   0.,   0.,   0.,   0.,   0.,   0.,   0.,\n",
       "          0.,   0.,   0.,   0.,   0.,   0.,   0.,   0.,   0.,   0.,   0.,\n",
       "          0.,   0.,   0.,   0.,   0.,   0.,   0.,   0.,   0.,   0.,   0.,\n",
       "          1.]),\n",
       " array([ 0.5 ,  1.39,  2.28,  3.17,  4.06,  4.95,  5.84,  6.73,  7.62,\n",
       "         8.51,  9.4 , 10.29, 11.18, 12.07, 12.96, 13.85, 14.74, 15.63,\n",
       "        16.52, 17.41, 18.3 , 19.19, 20.08, 20.97, 21.86, 22.75, 23.64,\n",
       "        24.53, 25.42, 26.31, 27.2 , 28.09, 28.98, 29.87, 30.76, 31.65,\n",
       "        32.54, 33.43, 34.32, 35.21, 36.1 , 36.99, 37.88, 38.77, 39.66,\n",
       "        40.55, 41.44, 42.33, 43.22, 44.11, 45.  , 45.89, 46.78, 47.67,\n",
       "        48.56, 49.45, 50.34, 51.23, 52.12, 53.01, 53.9 , 54.79, 55.68,\n",
       "        56.57, 57.46, 58.35, 59.24, 60.13, 61.02, 61.91, 62.8 , 63.69,\n",
       "        64.58, 65.47, 66.36, 67.25, 68.14, 69.03, 69.92, 70.81, 71.7 ,\n",
       "        72.59, 73.48, 74.37, 75.26, 76.15, 77.04, 77.93, 78.82, 79.71,\n",
       "        80.6 , 81.49, 82.38, 83.27, 84.16, 85.05, 85.94, 86.83, 87.72,\n",
       "        88.61, 89.5 ]),\n",
       " <BarContainer object of 100 artists>)"
      ]
     },
     "execution_count": 17,
     "metadata": {},
     "output_type": "execute_result"
    },
    {
     "data": {
      "image/png": "[encoded data removed]",
      "text/plain": [
       "<Figure size 432x288 with 1 Axes>"
      ]
     },
     "metadata": {
      "needs_background": "light"
     },
     "output_type": "display_data"
    }
   ],
   "source": [
    "plt.hist(rates, bins=100)"
   ]
  },
  {
   "cell_type": "code",
   "execution_count": 15,
   "id": "3c354062-2dd2-465c-a74e-bafebd6a1b91",
   "metadata": {},
   "outputs": [
    {
     "data": {
      "text/plain": [
       "[0.5,\n",
       " 30.5,\n",
       " 2.0,\n",
       " 3.0,\n",
       " 13.5,\n",
       " 0.5,\n",
       " 1.0,\n",
       " 1.5,\n",
       " 0.5,\n",
       " 2.0,\n",
       " 0.5,\n",
       " 0.5,\n",
       " 0.5,\n",
       " 7.5,\n",
       " 0.5,\n",
       " 1.5,\n",
       " 0.5,\n",
       " 2.5,\n",
       " 1.0,\n",
       " 0.5,\n",
       " 17.5,\n",
       " 0.5,\n",
       " 3.5,\n",
       " 0.5,\n",
       " 3.0,\n",
       " 0.5,\n",
       " 0.5,\n",
       " 13.0,\n",
       " 0.5,\n",
       " 10.5,\n",
       " 0.5,\n",
       " 2.0,\n",
       " 4.0,\n",
       " 0.5,\n",
       " 0.5,\n",
       " 0.5,\n",
       " 15.0,\n",
       " 1.0,\n",
       " 1.0,\n",
       " 10.5,\n",
       " 5.0,\n",
       " 1.0,\n",
       " 3.0,\n",
       " 0.5,\n",
       " 0.5,\n",
       " 7.5,\n",
       " 2.0,\n",
       " 0.5,\n",
       " 2.5,\n",
       " 0.5,\n",
       " 0.5,\n",
       " 1.5,\n",
       " 1.0,\n",
       " 0.5,\n",
       " 1.0,\n",
       " 1.0,\n",
       " 8.0,\n",
       " 0.5,\n",
       " 0.5,\n",
       " 0.5,\n",
       " 8.0,\n",
       " 19.5,\n",
       " 0.5,\n",
       " 0.5,\n",
       " 0.5,\n",
       " 1.5,\n",
       " 15.0,\n",
       " 0.5,\n",
       " 13.5,\n",
       " 0.5,\n",
       " 1.0,\n",
       " 0.5,\n",
       " 1.0,\n",
       " 1.0,\n",
       " 0.5,\n",
       " 4.5,\n",
       " 0.5,\n",
       " 9.5,\n",
       " 0.5,\n",
       " 4.5,\n",
       " 0.5,\n",
       " 2.0,\n",
       " 0.5,\n",
       " 17.0,\n",
       " 9.5,\n",
       " 0.5,\n",
       " 0.5,\n",
       " 0.5,\n",
       " 3.0,\n",
       " 0.5,\n",
       " 2.5,\n",
       " 13.0,\n",
       " 4.5,\n",
       " 1.5,\n",
       " 1.5,\n",
       " 0.5,\n",
       " 4.5,\n",
       " 1.5,\n",
       " 0.5,\n",
       " 3.0,\n",
       " 6.0,\n",
       " 5.5,\n",
       " 1.0,\n",
       " 0.5,\n",
       " 0.5,\n",
       " 0.5,\n",
       " 0.5,\n",
       " 1.5,\n",
       " 1.0,\n",
       " 0.5,\n",
       " 1.0,\n",
       " 2.5,\n",
       " 0.5,\n",
       " 16.0,\n",
       " 23.0,\n",
       " 0.5,\n",
       " 2.0,\n",
       " 1.0,\n",
       " 4.0,\n",
       " 2.0,\n",
       " 0.5,\n",
       " 0.5,\n",
       " 4.5,\n",
       " 3.0,\n",
       " 1.0,\n",
       " 13.0,\n",
       " 3.0,\n",
       " 40.0,\n",
       " 3.0,\n",
       " 0.5,\n",
       " 0.5,\n",
       " 22.0,\n",
       " 0.5,\n",
       " 3.0,\n",
       " 0.5,\n",
       " 0.5,\n",
       " 1.5,\n",
       " 0.5,\n",
       " 1.0,\n",
       " 5.5,\n",
       " 0.5,\n",
       " 0.5,\n",
       " 9.5,\n",
       " 0.5,\n",
       " 0.5,\n",
       " 13.0,\n",
       " 5.5,\n",
       " 4.5,\n",
       " 1.0,\n",
       " 2.0,\n",
       " 0.5,\n",
       " 7.0,\n",
       " 0.5,\n",
       " 4.0,\n",
       " 0.5,\n",
       " 0.5,\n",
       " 7.0,\n",
       " 1.5,\n",
       " 1.5,\n",
       " 5.0,\n",
       " 0.5,\n",
       " 5.0,\n",
       " 1.0,\n",
       " 1.0,\n",
       " 1.0,\n",
       " 0.5,\n",
       " 0.5,\n",
       " 1.5,\n",
       " 0.5,\n",
       " 1.0,\n",
       " 0.5,\n",
       " 0.5,\n",
       " 0.5,\n",
       " 0.5,\n",
       " 2.5,\n",
       " 2.5,\n",
       " 1.0,\n",
       " 1.5,\n",
       " 3.5,\n",
       " 1.5,\n",
       " 2.0,\n",
       " 6.5,\n",
       " 0.5,\n",
       " 0.5,\n",
       " 8.5,\n",
       " 0.5,\n",
       " 0.5,\n",
       " 4.0,\n",
       " 1.0,\n",
       " 1.5,\n",
       " 25.0,\n",
       " 1.0,\n",
       " 3.0,\n",
       " 0.5,\n",
       " 0.5,\n",
       " 3.5,\n",
       " 6.0,\n",
       " 0.5,\n",
       " 0.5,\n",
       " 3.5,\n",
       " 0.5,\n",
       " 2.5,\n",
       " 89.5,\n",
       " 7.5,\n",
       " 0.5,\n",
       " 3.0,\n",
       " 0.5,\n",
       " 1.0,\n",
       " 0.5,\n",
       " 0.5,\n",
       " 0.5,\n",
       " 0.5,\n",
       " 0.5,\n",
       " 0.5,\n",
       " 4.0,\n",
       " 0.5,\n",
       " 0.5]"
      ]
     },
     "execution_count": 15,
     "metadata": {},
     "output_type": "execute_result"
    }
   ],
   "source": [
    "rates "
   ]
  },
  {
   "cell_type": "code",
   "execution_count": null,
   "id": "9e91c0f3-7e0b-430b-8b66-40a83152f3f6",
   "metadata": {},
   "outputs": [],
   "source": []
  }
 ],
 "metadata": {
  "kernelspec": {
   "display_name": "Python 3 (ipykernel)",
   "language": "python",
   "name": "python3"
  },
  "language_info": {
   "codemirror_mode": {
    "name": "ipython",
    "version": 3
   },
   "file_extension": ".py",
   "mimetype": "text/x-python",
   "name": "python",
   "nbconvert_exporter": "python",
   "pygments_lexer": "ipython3",
   "version": "3.8.11"
  }
 },
 "nbformat": 4,
 "nbformat_minor": 5
}
